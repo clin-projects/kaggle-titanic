{
 "metadata": {
  "name": "",
  "signature": "sha256:05ed69a9752f2aba74f7f7e131bb4e528ce8db590c4b7b32face64c847e77220"
 },
 "nbformat": 3,
 "nbformat_minor": 0,
 "worksheets": [
  {
   "cells": [
    {
     "cell_type": "markdown",
     "metadata": {},
     "source": [
      "# Using L-layer neural network on the Kaggle Titanic dataset\n",
      "\n",
      "Objective is to predict which passengers survived the Titanic disaster, using the [Kaggle Titanic dataset](https://www.kaggle.com/c/titanic)\n",
      "\n",
      "Here, we build on our previous results by:\n",
      "\n",
      "1. trying out a multi-layer NN, and \n",
      "\n",
      "2. performing cross-validation\n",
      "\n",
      "## Notes\n",
      "\n",
      "* Pre-processing follows [Manav Sehgal's fantastic tutorial](https://www.kaggle.com/startupsci/titanic-data-science-solutions) which contains examples of several useful functions from the [pandas](https://pandas.pydata.org) and [seaborn](https://seaborn.pydata.org) libraries\n",
      "\n",
      "\n",
      "* Adi Bronshtein has written a concise [intro to cross-validation](https://towardsdatascience.com/train-test-split-and-cross-validation-in-python-80b61beca4b6)\n",
      "\n",
      "## Contents\n",
      "\n",
      "**Section 1.** Loading data and Pre-processing data / wrangling data\n",
      "\n",
      "**Section 2.** Run old models on dataset and evaluate\n",
      "\n",
      "**Section 3.** Run L-layer NN on dataset and evaluate\n",
      "\n",
      "**Section 4.** Implement cross-validation and run models again"
     ]
    },
    {
     "cell_type": "heading",
     "level": 1,
     "metadata": {},
     "source": [
      "**Section 1.** Loading data and Pre-processing data / wrangling data"
     ]
    },
    {
     "cell_type": "code",
     "collapsed": false,
     "input": [
      "# data analysis and wrangling\n",
      "import pandas as pd\n",
      "import numpy as np\n",
      "import random as rnd\n",
      "from ML_models import * # various traditional ML models\n",
      "from preprocess import * # pre-process titanic data\n",
      "from dnn_app_utils_v3 import * # for L-layer NN\n",
      "\n",
      "# visualization\n",
      "import seaborn as sns\n",
      "import matplotlib.pyplot as plt\n",
      "%matplotlib inline\n",
      "\n",
      "%load_ext autoreload\n",
      "%autoreload 2"
     ],
     "language": "python",
     "metadata": {},
     "outputs": [
      {
       "output_type": "stream",
       "stream": "stdout",
       "text": [
        "The autoreload extension is already loaded. To reload it, use:\n",
        "  %reload_ext autoreload\n"
       ]
      }
     ],
     "prompt_number": 226
    },
    {
     "cell_type": "code",
     "collapsed": false,
     "input": [
      "# loading data\n",
      "train_df = pd.read_csv('./datasets/train.csv')\n",
      "test_df = pd.read_csv('./datasets/test.csv')\n",
      "combine = [train_df, test_df]\n",
      "\n",
      "# pre-process data\n",
      "X_train, Y_train, X_test = PreProcessData(train_df, test_df)"
     ],
     "language": "python",
     "metadata": {},
     "outputs": [],
     "prompt_number": 227
    },
    {
     "cell_type": "heading",
     "level": 1,
     "metadata": {},
     "source": [
      "**Section 2.** Run old models on dataset and evaluate"
     ]
    },
    {
     "cell_type": "code",
     "collapsed": false,
     "input": [
      "# old models\n",
      "\n",
      "n_neighbors = 3 # for KNN\n",
      "n_estimators = 300 # for random forest\n",
      "\n",
      "models = runAll(X_train, Y_train, X_test, n_neighbors, n_estimators)\n",
      "models"
     ],
     "language": "python",
     "metadata": {},
     "outputs": [
      {
       "html": [
        "<div style=\"max-width:1500px;overflow:auto;\">\n",
        "<style scoped>\n",
        "    .dataframe tbody tr th:only-of-type {\n",
        "        vertical-align: middle;\n",
        "    }\n",
        "\n",
        "    .dataframe tbody tr th {\n",
        "        vertical-align: top;\n",
        "    }\n",
        "\n",
        "    .dataframe thead th {\n",
        "        text-align: right;\n",
        "    }\n",
        "</style>\n",
        "<table border=\"1\" class=\"dataframe\">\n",
        "  <thead>\n",
        "    <tr style=\"text-align: right;\">\n",
        "      <th></th>\n",
        "      <th>Model</th>\n",
        "      <th>Predictions</th>\n",
        "      <th>Score</th>\n",
        "    </tr>\n",
        "  </thead>\n",
        "  <tbody>\n",
        "    <tr>\n",
        "      <th>3</th>\n",
        "      <td>Random Forest</td>\n",
        "      <td>[0, 0, 0, 0, 1, 0, 1, 0, 1, 0, 0, 1, 1, 0, 1, ...</td>\n",
        "      <td>86.76</td>\n",
        "    </tr>\n",
        "    <tr>\n",
        "      <th>8</th>\n",
        "      <td>Decision Tree</td>\n",
        "      <td>[0, 0, 0, 0, 1, 0, 1, 0, 1, 0, 0, 1, 1, 0, 1, ...</td>\n",
        "      <td>86.76</td>\n",
        "    </tr>\n",
        "    <tr>\n",
        "      <th>1</th>\n",
        "      <td>KNN</td>\n",
        "      <td>[0, 0, 0, 0, 0, 0, 1, 0, 1, 0, 0, 1, 1, 0, 1, ...</td>\n",
        "      <td>84.06</td>\n",
        "    </tr>\n",
        "    <tr>\n",
        "      <th>0</th>\n",
        "      <td>Support Vector Machines</td>\n",
        "      <td>[0, 0, 0, 0, 1, 0, 1, 0, 1, 0, 0, 0, 1, 0, 1, ...</td>\n",
        "      <td>83.84</td>\n",
        "    </tr>\n",
        "    <tr>\n",
        "      <th>7</th>\n",
        "      <td>Linear SVC</td>\n",
        "      <td>[0, 1, 0, 0, 1, 0, 1, 0, 1, 0, 0, 0, 1, 0, 1, ...</td>\n",
        "      <td>81.03</td>\n",
        "    </tr>\n",
        "    <tr>\n",
        "      <th>2</th>\n",
        "      <td>Logistic Regression</td>\n",
        "      <td>[0, 1, 0, 0, 1, 0, 1, 0, 1, 0, 0, 0, 1, 0, 1, ...</td>\n",
        "      <td>80.25</td>\n",
        "    </tr>\n",
        "    <tr>\n",
        "      <th>6</th>\n",
        "      <td>Stochastic Gradient Decent</td>\n",
        "      <td>[0, 1, 0, 0, 1, 0, 1, 0, 1, 0, 0, 0, 1, 0, 1, ...</td>\n",
        "      <td>78.90</td>\n",
        "    </tr>\n",
        "    <tr>\n",
        "      <th>5</th>\n",
        "      <td>Perceptron</td>\n",
        "      <td>[0, 0, 0, 0, 1, 1, 1, 0, 1, 0, 0, 0, 1, 0, 1, ...</td>\n",
        "      <td>74.07</td>\n",
        "    </tr>\n",
        "    <tr>\n",
        "      <th>4</th>\n",
        "      <td>Naive Bayes</td>\n",
        "      <td>[0, 1, 0, 0, 1, 0, 1, 1, 1, 0, 0, 1, 1, 0, 1, ...</td>\n",
        "      <td>73.40</td>\n",
        "    </tr>\n",
        "  </tbody>\n",
        "</table>\n",
        "</div>"
       ],
       "metadata": {},
       "output_type": "pyout",
       "prompt_number": 228,
       "text": [
        "                        Model  \\\n",
        "3               Random Forest   \n",
        "8               Decision Tree   \n",
        "1                         KNN   \n",
        "0     Support Vector Machines   \n",
        "7                  Linear SVC   \n",
        "2         Logistic Regression   \n",
        "6  Stochastic Gradient Decent   \n",
        "5                  Perceptron   \n",
        "4                 Naive Bayes   \n",
        "\n",
        "                                         Predictions  Score  \n",
        "3  [0, 0, 0, 0, 1, 0, 1, 0, 1, 0, 0, 1, 1, 0, 1, ...  86.76  \n",
        "8  [0, 0, 0, 0, 1, 0, 1, 0, 1, 0, 0, 1, 1, 0, 1, ...  86.76  \n",
        "1  [0, 0, 0, 0, 0, 0, 1, 0, 1, 0, 0, 1, 1, 0, 1, ...  84.06  \n",
        "0  [0, 0, 0, 0, 1, 0, 1, 0, 1, 0, 0, 0, 1, 0, 1, ...  83.84  \n",
        "7  [0, 1, 0, 0, 1, 0, 1, 0, 1, 0, 0, 0, 1, 0, 1, ...  81.03  \n",
        "2  [0, 1, 0, 0, 1, 0, 1, 0, 1, 0, 0, 0, 1, 0, 1, ...  80.25  \n",
        "6  [0, 1, 0, 0, 1, 0, 1, 0, 1, 0, 0, 0, 1, 0, 1, ...  78.90  \n",
        "5  [0, 0, 0, 0, 1, 1, 1, 0, 1, 0, 0, 0, 1, 0, 1, ...  74.07  \n",
        "4  [0, 1, 0, 0, 1, 0, 1, 1, 1, 0, 0, 1, 1, 0, 1, ...  73.40  "
       ]
      }
     ],
     "prompt_number": 228
    },
    {
     "cell_type": "heading",
     "level": 1,
     "metadata": {},
     "source": [
      "**Section 3.** Run L-layer NN on dataset and evaluate"
     ]
    },
    {
     "cell_type": "code",
     "collapsed": false,
     "input": [
      "# reshape for NN\n",
      "X_train = X_train.T\n",
      "Y_train = np.array([Y_train])\n",
      "X_test = X_test.T\n",
      "print X_train.shape, Y_train.shape, X_test.shape"
     ],
     "language": "python",
     "metadata": {},
     "outputs": [
      {
       "output_type": "stream",
       "stream": "stdout",
       "text": [
        "(8, 891) (1, 891) (8, 418)\n"
       ]
      }
     ],
     "prompt_number": 229
    },
    {
     "cell_type": "code",
     "collapsed": false,
     "input": [
      "# L_layer_model (adapted from function built for Coursera's NN and DL course)\n",
      "\n",
      "def L_layer_model(X, Y, layers_dims, learning_rate = 0.0075, num_iterations = 3000, print_cost=False):#lr was 0.009\n",
      "    \"\"\"\n",
      "    Implements a L-layer neural network: [LINEAR->RELU]*(L-1)->LINEAR->SIGMOID.\n",
      "    \n",
      "    Arguments:\n",
      "    X -- data, numpy array of shape (number of examples, num_px * num_px * 3)\n",
      "    Y -- true \"label\" vector (containing 0 if cat, 1 if non-cat), of shape (1, number of examples)\n",
      "    layers_dims -- list containing the input size and each layer size, of length (number of layers + 1).\n",
      "    learning_rate -- learning rate of the gradient descent update rule\n",
      "    num_iterations -- number of iterations of the optimization loop\n",
      "    print_cost -- if True, it prints the cost every 100 steps\n",
      "    \n",
      "    Returns:\n",
      "    parameters -- parameters learnt by the model. They can then be used to predict.\n",
      "    \"\"\"\n",
      "\n",
      "    np.random.seed(1)\n",
      "    costs = []                         # keep track of cost\n",
      "    \n",
      "    # Parameters initialization.\n",
      "    parameters = initialize_parameters_deep(layers_dims)\n",
      "    \n",
      "    # Loop (gradient descent)\n",
      "    for i in range(0, num_iterations):\n",
      "\n",
      "        # Forward propagation: [LINEAR -> RELU]*(L-1) -> LINEAR -> SIGMOID.\n",
      "        AL, caches = L_model_forward(X, parameters)\n",
      "        \n",
      "        # Compute cost.\n",
      "        cost = compute_cost(AL, Y)\n",
      "    \n",
      "        # Backward propagation.\n",
      "        grads = L_model_backward(AL, Y, caches)\n",
      " \n",
      "        # Update parameters.\n",
      "        parameters = update_parameters(parameters, grads, learning_rate)\n",
      "                \n",
      "        # Print the cost every 100 training example\n",
      "        if print_cost and i % 100 == 0:\n",
      "            print (\"Cost after iteration %i: %f\" %(i, cost))\n",
      "        if print_cost and i % 100 == 0:\n",
      "            costs.append(cost)\n",
      "            \n",
      "    # plot the cost\n",
      "    plt.plot(np.squeeze(costs))\n",
      "    plt.ylabel('cost')\n",
      "    plt.xlabel('iterations (per tens)')\n",
      "    plt.title(\"Learning rate =\" + str(learning_rate))\n",
      "    plt.show()\n",
      "    \n",
      "    return parameters"
     ],
     "language": "python",
     "metadata": {},
     "outputs": [],
     "prompt_number": 230
    },
    {
     "cell_type": "code",
     "collapsed": false,
     "input": [
      "### CONSTANTS DEFINING THE MODEL ####\n",
      "n_x = X_train.shape[0]     # num_px * num_px * 3\n",
      "n_y = Y_train.shape[0]\n",
      "layers_dims = [n_x, 20, 7, 5, n_y] #  4-layer model"
     ],
     "language": "python",
     "metadata": {},
     "outputs": [],
     "prompt_number": 231
    },
    {
     "cell_type": "code",
     "collapsed": false,
     "input": [
      "parameters = L_layer_model(X_train, Y_train, layers_dims, num_iterations = 2500, print_cost = True)"
     ],
     "language": "python",
     "metadata": {},
     "outputs": [
      {
       "output_type": "stream",
       "stream": "stdout",
       "text": [
        "Cost after iteration 0: 0.892661\n",
        "Cost after iteration 100: 0.597748"
       ]
      },
      {
       "output_type": "stream",
       "stream": "stdout",
       "text": [
        "\n",
        "Cost after iteration 200: 0.565703"
       ]
      },
      {
       "output_type": "stream",
       "stream": "stdout",
       "text": [
        "\n",
        "Cost after iteration 300: 0.544974"
       ]
      },
      {
       "output_type": "stream",
       "stream": "stdout",
       "text": [
        "\n",
        "Cost after iteration 400: 0.533170"
       ]
      },
      {
       "output_type": "stream",
       "stream": "stdout",
       "text": [
        "\n",
        "Cost after iteration 500: 0.524446"
       ]
      },
      {
       "output_type": "stream",
       "stream": "stdout",
       "text": [
        "\n",
        "Cost after iteration 600: 0.517918"
       ]
      },
      {
       "output_type": "stream",
       "stream": "stdout",
       "text": [
        "\n",
        "Cost after iteration 700: 0.512525"
       ]
      },
      {
       "output_type": "stream",
       "stream": "stdout",
       "text": [
        "\n",
        "Cost after iteration 800: 0.507951"
       ]
      },
      {
       "output_type": "stream",
       "stream": "stdout",
       "text": [
        "\n",
        "Cost after iteration 900: 0.503922"
       ]
      },
      {
       "output_type": "stream",
       "stream": "stdout",
       "text": [
        "\n",
        "Cost after iteration 1000: 0.500414"
       ]
      },
      {
       "output_type": "stream",
       "stream": "stdout",
       "text": [
        "\n",
        "Cost after iteration 1100: 0.497290"
       ]
      },
      {
       "output_type": "stream",
       "stream": "stdout",
       "text": [
        "\n",
        "Cost after iteration 1200: 0.494419"
       ]
      },
      {
       "output_type": "stream",
       "stream": "stdout",
       "text": [
        "\n",
        "Cost after iteration 1300: 0.491777"
       ]
      },
      {
       "output_type": "stream",
       "stream": "stdout",
       "text": [
        "\n",
        "Cost after iteration 1400: 0.489326"
       ]
      },
      {
       "output_type": "stream",
       "stream": "stdout",
       "text": [
        "\n",
        "Cost after iteration 1500: 0.487128"
       ]
      },
      {
       "output_type": "stream",
       "stream": "stdout",
       "text": [
        "\n",
        "Cost after iteration 1600: 0.485146"
       ]
      },
      {
       "output_type": "stream",
       "stream": "stdout",
       "text": [
        "\n",
        "Cost after iteration 1700: 0.483288"
       ]
      },
      {
       "output_type": "stream",
       "stream": "stdout",
       "text": [
        "\n",
        "Cost after iteration 1800: 0.481549"
       ]
      },
      {
       "output_type": "stream",
       "stream": "stdout",
       "text": [
        "\n",
        "Cost after iteration 1900: 0.479816"
       ]
      },
      {
       "output_type": "stream",
       "stream": "stdout",
       "text": [
        "\n",
        "Cost after iteration 2000: 0.478120"
       ]
      },
      {
       "output_type": "stream",
       "stream": "stdout",
       "text": [
        "\n",
        "Cost after iteration 2100: 0.476509"
       ]
      },
      {
       "output_type": "stream",
       "stream": "stdout",
       "text": [
        "\n",
        "Cost after iteration 2200: 0.473996"
       ]
      },
      {
       "output_type": "stream",
       "stream": "stdout",
       "text": [
        "\n",
        "Cost after iteration 2300: 0.470907"
       ]
      },
      {
       "output_type": "stream",
       "stream": "stdout",
       "text": [
        "\n",
        "Cost after iteration 2400: 0.467967"
       ]
      },
      {
       "output_type": "stream",
       "stream": "stdout",
       "text": [
        "\n"
       ]
      },
      {
       "metadata": {},
       "output_type": "display_data",
       "png": "[encoded data removed]",
       "text": [
        "<matplotlib.figure.Figure at 0x110a35bd0>"
       ]
      }
     ],
     "prompt_number": 232
    },
    {
     "cell_type": "code",
     "collapsed": false,
     "input": [
      "pred_train = predict(X_train, Y_train, parameters)"
     ],
     "language": "python",
     "metadata": {},
     "outputs": [
      {
       "output_type": "stream",
       "stream": "stdout",
       "text": [
        "Accuracy: 0.811447811448\n"
       ]
      }
     ],
     "prompt_number": 233
    },
    {
     "cell_type": "heading",
     "level": 1,
     "metadata": {},
     "source": [
      "**Section 4.** Implement cross-validation and run models again"
     ]
    },
    {
     "cell_type": "markdown",
     "metadata": {},
     "source": [
      "We use stratified K-fold to preserve the fraction of each class (survived vs non-survived) across samples"
     ]
    },
    {
     "cell_type": "markdown",
     "metadata": {},
     "source": [
      "**Section 4.1.** Training and evaluating using traditional ML models"
     ]
    },
    {
     "cell_type": "code",
     "collapsed": false,
     "input": [
      "# need to transpose X, Y from the NN model\n",
      "\n",
      "X_train = np.array(X_train.T)\n",
      "Y_train = np.array(Y_train.T)"
     ],
     "language": "python",
     "metadata": {},
     "outputs": [],
     "prompt_number": 234
    },
    {
     "cell_type": "code",
     "collapsed": false,
     "input": [
      "from sklearn.model_selection import StratifiedKFold\n",
      "\n",
      "n_splits = 5\n",
      "\n",
      "skf = StratifiedKFold(n_splits=n_splits)\n",
      "\n",
      "train_accuracy = []\n",
      "test_accuracy = []\n",
      "\n",
      "for train_index, test_index in skf.split(X_train, Y_train):\n",
      "    X_train_i, X_test_i = X_train[train_index], X_train[test_index]\n",
      "    Y_train_i, Y_test_i = Y_train[train_index], Y_train[test_index]\n",
      "    \n",
      "    models_kfold = runAll(X_train_i, Y_train_i, X_test_i)\n",
      "    \n",
      "    cur_test_accuracy = []\n",
      "    for Y_prediction in models_kfold['Predictions']:\n",
      "        cur_test_accuracy.append(float(np.sum(Y_prediction == Y_test_i.ravel())) / len(Y_prediction) * 100)\n",
      "    test_accuracy.append(cur_test_accuracy)\n",
      "    \n",
      "    train_accuracy.append(models_kfold['Score'].as_matrix())\n",
      "    \n",
      "avg_train_accuracy = np.round(np.sum(train_accuracy,axis=0) / n_splits,2)\n",
      "avg_test_accuracy = np.round(np.sum(test_accuracy,axis=0) / n_splits,2)\n",
      "\n",
      "models['Kfold train'] = avg_train_accuracy\n",
      "models['Kfold test'] = avg_test_accuracy\n",
      "models.sort_values(by='Kfold test', ascending=False)"
     ],
     "language": "python",
     "metadata": {},
     "outputs": [
      {
       "html": [
        "<div style=\"max-width:1500px;overflow:auto;\">\n",
        "<style scoped>\n",
        "    .dataframe tbody tr th:only-of-type {\n",
        "        vertical-align: middle;\n",
        "    }\n",
        "\n",
        "    .dataframe tbody tr th {\n",
        "        vertical-align: top;\n",
        "    }\n",
        "\n",
        "    .dataframe thead th {\n",
        "        text-align: right;\n",
        "    }\n",
        "</style>\n",
        "<table border=\"1\" class=\"dataframe\">\n",
        "  <thead>\n",
        "    <tr style=\"text-align: right;\">\n",
        "      <th></th>\n",
        "      <th>Model</th>\n",
        "      <th>Predictions</th>\n",
        "      <th>Score</th>\n",
        "      <th>Kfold train</th>\n",
        "      <th>Kfold test</th>\n",
        "    </tr>\n",
        "  </thead>\n",
        "  <tbody>\n",
        "    <tr>\n",
        "      <th>0</th>\n",
        "      <td>Support Vector Machines</td>\n",
        "      <td>[0, 0, 0, 0, 1, 0, 1, 0, 1, 0, 0, 0, 1, 0, 1, ...</td>\n",
        "      <td>83.84</td>\n",
        "      <td>83.47</td>\n",
        "      <td>81.48</td>\n",
        "    </tr>\n",
        "    <tr>\n",
        "      <th>3</th>\n",
        "      <td>Random Forest</td>\n",
        "      <td>[0, 0, 0, 0, 1, 0, 1, 0, 1, 0, 0, 1, 1, 0, 1, ...</td>\n",
        "      <td>86.76</td>\n",
        "      <td>87.23</td>\n",
        "      <td>80.82</td>\n",
        "    </tr>\n",
        "    <tr>\n",
        "      <th>7</th>\n",
        "      <td>Linear SVC</td>\n",
        "      <td>[0, 1, 0, 0, 1, 0, 1, 0, 1, 0, 0, 0, 1, 0, 1, ...</td>\n",
        "      <td>81.03</td>\n",
        "      <td>81.51</td>\n",
        "      <td>80.48</td>\n",
        "    </tr>\n",
        "    <tr>\n",
        "      <th>8</th>\n",
        "      <td>Decision Tree</td>\n",
        "      <td>[0, 0, 0, 0, 1, 0, 1, 0, 1, 0, 0, 1, 1, 0, 1, ...</td>\n",
        "      <td>86.76</td>\n",
        "      <td>87.23</td>\n",
        "      <td>79.47</td>\n",
        "    </tr>\n",
        "    <tr>\n",
        "      <th>1</th>\n",
        "      <td>KNN</td>\n",
        "      <td>[0, 0, 0, 0, 0, 0, 1, 0, 1, 0, 0, 1, 1, 0, 1, ...</td>\n",
        "      <td>84.06</td>\n",
        "      <td>84.54</td>\n",
        "      <td>79.03</td>\n",
        "    </tr>\n",
        "    <tr>\n",
        "      <th>2</th>\n",
        "      <td>Logistic Regression</td>\n",
        "      <td>[0, 1, 0, 0, 1, 0, 1, 0, 1, 0, 0, 0, 1, 0, 1, ...</td>\n",
        "      <td>80.25</td>\n",
        "      <td>80.92</td>\n",
        "      <td>78.78</td>\n",
        "    </tr>\n",
        "    <tr>\n",
        "      <th>6</th>\n",
        "      <td>Stochastic Gradient Decent</td>\n",
        "      <td>[0, 1, 0, 0, 1, 0, 1, 0, 1, 0, 0, 0, 1, 0, 1, ...</td>\n",
        "      <td>78.90</td>\n",
        "      <td>75.45</td>\n",
        "      <td>73.52</td>\n",
        "    </tr>\n",
        "    <tr>\n",
        "      <th>5</th>\n",
        "      <td>Perceptron</td>\n",
        "      <td>[0, 0, 0, 0, 1, 1, 1, 0, 1, 0, 0, 0, 1, 0, 1, ...</td>\n",
        "      <td>74.07</td>\n",
        "      <td>73.63</td>\n",
        "      <td>73.08</td>\n",
        "    </tr>\n",
        "    <tr>\n",
        "      <th>4</th>\n",
        "      <td>Naive Bayes</td>\n",
        "      <td>[0, 1, 0, 0, 1, 0, 1, 1, 1, 0, 0, 1, 1, 0, 1, ...</td>\n",
        "      <td>73.40</td>\n",
        "      <td>62.26</td>\n",
        "      <td>64.45</td>\n",
        "    </tr>\n",
        "  </tbody>\n",
        "</table>\n",
        "</div>"
       ],
       "metadata": {},
       "output_type": "pyout",
       "prompt_number": 235,
       "text": [
        "                        Model  \\\n",
        "0     Support Vector Machines   \n",
        "3               Random Forest   \n",
        "7                  Linear SVC   \n",
        "8               Decision Tree   \n",
        "1                         KNN   \n",
        "2         Logistic Regression   \n",
        "6  Stochastic Gradient Decent   \n",
        "5                  Perceptron   \n",
        "4                 Naive Bayes   \n",
        "\n",
        "                                         Predictions  Score  Kfold train  \\\n",
        "0  [0, 0, 0, 0, 1, 0, 1, 0, 1, 0, 0, 0, 1, 0, 1, ...  83.84        83.47   \n",
        "3  [0, 0, 0, 0, 1, 0, 1, 0, 1, 0, 0, 1, 1, 0, 1, ...  86.76        87.23   \n",
        "7  [0, 1, 0, 0, 1, 0, 1, 0, 1, 0, 0, 0, 1, 0, 1, ...  81.03        81.51   \n",
        "8  [0, 0, 0, 0, 1, 0, 1, 0, 1, 0, 0, 1, 1, 0, 1, ...  86.76        87.23   \n",
        "1  [0, 0, 0, 0, 0, 0, 1, 0, 1, 0, 0, 1, 1, 0, 1, ...  84.06        84.54   \n",
        "2  [0, 1, 0, 0, 1, 0, 1, 0, 1, 0, 0, 0, 1, 0, 1, ...  80.25        80.92   \n",
        "6  [0, 1, 0, 0, 1, 0, 1, 0, 1, 0, 0, 0, 1, 0, 1, ...  78.90        75.45   \n",
        "5  [0, 0, 0, 0, 1, 1, 1, 0, 1, 0, 0, 0, 1, 0, 1, ...  74.07        73.63   \n",
        "4  [0, 1, 0, 0, 1, 0, 1, 1, 1, 0, 0, 1, 1, 0, 1, ...  73.40        62.26   \n",
        "\n",
        "   Kfold test  \n",
        "0       81.48  \n",
        "3       80.82  \n",
        "7       80.48  \n",
        "8       79.47  \n",
        "1       79.03  \n",
        "2       78.78  \n",
        "6       73.52  \n",
        "5       73.08  \n",
        "4       64.45  "
       ]
      }
     ],
     "prompt_number": 235
    },
    {
     "cell_type": "markdown",
     "metadata": {},
     "source": [
      "**Section 4.2.** Training and evaluating using L-layer neural network"
     ]
    },
    {
     "cell_type": "code",
     "collapsed": false,
     "input": [
      "train_accuracy = []\n",
      "test_accuracy = []\n",
      "\n",
      "for train_index, test_index in skf.split(X_train, Y_train):\n",
      "    X_train_i, X_test_i = X_train[train_index].T, X_train[test_index].T\n",
      "    Y_train_i, Y_test_i = Y_train[train_index].T, Y_train[test_index].T\n",
      "    \n",
      "    n_x = X_train_i.shape[0]     # num_px * num_px * 3\n",
      "    n_y = Y_train_i.shape[0]\n",
      "    layers_dims = [n_x, 20, 7, 5, n_y] #  4-layer model\n",
      "\n",
      "    parameters = L_layer_model(X_train_i, Y_train_i, layers_dims, num_iterations = 2500, print_cost = True);\n",
      "\n",
      "    pred_train_i = predict(X_train_i, Y_train_i, parameters)\n",
      "    pred_test_i = predict(X_test_i, Y_test_i, parameters)\n",
      "    \n",
      "    cur_train_accuracy = float(np.sum(pred_train_i == Y_train_i)) / Y_train_i.shape[1]\n",
      "    cur_test_accuracy = float(np.sum(pred_test_i == Y_test_i)) / Y_test_i.shape[1]\n",
      "    \n",
      "    train_accuracy.append(cur_train_accuracy)\n",
      "    test_accuracy.append(cur_test_accuracy)\n",
      "    \n",
      "avg_train_accuracy = np.round(np.sum(train_accuracy,axis=0) / n_splits,2)\n",
      "avg_test_accuracy = np.round(np.sum(test_accuracy,axis=0) / n_splits,2)\n",
      "\n",
      "print 'training accuracy'\n",
      "print train_accuracy\n",
      "print avg_train_accuracy\n",
      "print '_'*40\n",
      "\n",
      "print 'test accuracy'\n",
      "print test_accuracy\n",
      "print avg_test_accuracy"
     ],
     "language": "python",
     "metadata": {},
     "outputs": [
      {
       "output_type": "stream",
       "stream": "stdout",
       "text": [
        "Cost after iteration 0: 0.909249\n",
        "Cost after iteration 100: 0.592969"
       ]
      },
      {
       "output_type": "stream",
       "stream": "stdout",
       "text": [
        "\n",
        "Cost after iteration 200: 0.559073"
       ]
      },
      {
       "output_type": "stream",
       "stream": "stdout",
       "text": [
        "\n",
        "Cost after iteration 300: 0.541402"
       ]
      },
      {
       "output_type": "stream",
       "stream": "stdout",
       "text": [
        "\n",
        "Cost after iteration 400: 0.531023"
       ]
      },
      {
       "output_type": "stream",
       "stream": "stdout",
       "text": [
        "\n",
        "Cost after iteration 500: 0.523179"
       ]
      },
      {
       "output_type": "stream",
       "stream": "stdout",
       "text": [
        "\n",
        "Cost after iteration 600: 0.516742"
       ]
      },
      {
       "output_type": "stream",
       "stream": "stdout",
       "text": [
        "\n",
        "Cost after iteration 700: 0.511248"
       ]
      },
      {
       "output_type": "stream",
       "stream": "stdout",
       "text": [
        "\n",
        "Cost after iteration 800: 0.506552"
       ]
      },
      {
       "output_type": "stream",
       "stream": "stdout",
       "text": [
        "\n",
        "Cost after iteration 900: 0.502624"
       ]
      },
      {
       "output_type": "stream",
       "stream": "stdout",
       "text": [
        "\n",
        "Cost after iteration 1000: 0.499043"
       ]
      },
      {
       "output_type": "stream",
       "stream": "stdout",
       "text": [
        "\n",
        "Cost after iteration 1100: 0.495771"
       ]
      },
      {
       "output_type": "stream",
       "stream": "stdout",
       "text": [
        "\n",
        "Cost after iteration 1200: 0.492777"
       ]
      },
      {
       "output_type": "stream",
       "stream": "stdout",
       "text": [
        "\n",
        "Cost after iteration 1300: 0.490133"
       ]
      },
      {
       "output_type": "stream",
       "stream": "stdout",
       "text": [
        "\n",
        "Cost after iteration 1400: 0.487753"
       ]
      },
      {
       "output_type": "stream",
       "stream": "stdout",
       "text": [
        "\n",
        "Cost after iteration 1500: 0.485601"
       ]
      },
      {
       "output_type": "stream",
       "stream": "stdout",
       "text": [
        "\n",
        "Cost after iteration 1600: 0.483618"
       ]
      },
      {
       "output_type": "stream",
       "stream": "stdout",
       "text": [
        "\n",
        "Cost after iteration 1700: 0.481726"
       ]
      },
      {
       "output_type": "stream",
       "stream": "stdout",
       "text": [
        "\n",
        "Cost after iteration 1800: 0.479995"
       ]
      },
      {
       "output_type": "stream",
       "stream": "stdout",
       "text": [
        "\n",
        "Cost after iteration 1900: 0.478373"
       ]
      },
      {
       "output_type": "stream",
       "stream": "stdout",
       "text": [
        "\n",
        "Cost after iteration 2000: 0.476787"
       ]
      },
      {
       "output_type": "stream",
       "stream": "stdout",
       "text": [
        "\n",
        "Cost after iteration 2100: 0.475206"
       ]
      },
      {
       "output_type": "stream",
       "stream": "stdout",
       "text": [
        "\n",
        "Cost after iteration 2200: 0.473447"
       ]
      },
      {
       "output_type": "stream",
       "stream": "stdout",
       "text": [
        "\n",
        "Cost after iteration 2300: 0.471771"
       ]
      },
      {
       "output_type": "stream",
       "stream": "stdout",
       "text": [
        "\n",
        "Cost after iteration 2400: 0.470005"
       ]
      },
      {
       "output_type": "stream",
       "stream": "stdout",
       "text": [
        "\n"
       ]
      },
      {
       "metadata": {},
       "output_type": "display_data",
       "png": "[encoded data removed]",
       "text": [
        "<matplotlib.figure.Figure at 0x111be2fd0>"
       ]
      },
      {
       "output_type": "stream",
       "stream": "stdout",
       "text": [
        "Accuracy: 0.816011235955\n",
        "Accuracy: 0.787709497207\n",
        "Cost after iteration 0: 0.895198\n",
        "Cost after iteration 100: 0.594802"
       ]
      },
      {
       "output_type": "stream",
       "stream": "stdout",
       "text": [
        "\n",
        "Cost after iteration 200: 0.557823"
       ]
      },
      {
       "output_type": "stream",
       "stream": "stdout",
       "text": [
        "\n",
        "Cost after iteration 300: 0.538193"
       ]
      },
      {
       "output_type": "stream",
       "stream": "stdout",
       "text": [
        "\n",
        "Cost after iteration 400: 0.526717"
       ]
      },
      {
       "output_type": "stream",
       "stream": "stdout",
       "text": [
        "\n",
        "Cost after iteration 500: 0.518029"
       ]
      },
      {
       "output_type": "stream",
       "stream": "stdout",
       "text": [
        "\n",
        "Cost after iteration 600: 0.511128"
       ]
      },
      {
       "output_type": "stream",
       "stream": "stdout",
       "text": [
        "\n",
        "Cost after iteration 700: 0.505628"
       ]
      },
      {
       "output_type": "stream",
       "stream": "stdout",
       "text": [
        "\n",
        "Cost after iteration 800: 0.501028"
       ]
      },
      {
       "output_type": "stream",
       "stream": "stdout",
       "text": [
        "\n",
        "Cost after iteration 900: 0.497050"
       ]
      },
      {
       "output_type": "stream",
       "stream": "stdout",
       "text": [
        "\n",
        "Cost after iteration 1000: 0.493410"
       ]
      },
      {
       "output_type": "stream",
       "stream": "stdout",
       "text": [
        "\n",
        "Cost after iteration 1100: 0.490076"
       ]
      },
      {
       "output_type": "stream",
       "stream": "stdout",
       "text": [
        "\n",
        "Cost after iteration 1200: 0.487064"
       ]
      },
      {
       "output_type": "stream",
       "stream": "stdout",
       "text": [
        "\n",
        "Cost after iteration 1300: 0.484262"
       ]
      },
      {
       "output_type": "stream",
       "stream": "stdout",
       "text": [
        "\n",
        "Cost after iteration 1400: 0.481818"
       ]
      },
      {
       "output_type": "stream",
       "stream": "stdout",
       "text": [
        "\n",
        "Cost after iteration 1500: 0.479495"
       ]
      },
      {
       "output_type": "stream",
       "stream": "stdout",
       "text": [
        "\n",
        "Cost after iteration 1600: 0.477020"
       ]
      },
      {
       "output_type": "stream",
       "stream": "stdout",
       "text": [
        "\n",
        "Cost after iteration 1700: 0.474305"
       ]
      },
      {
       "output_type": "stream",
       "stream": "stdout",
       "text": [
        "\n",
        "Cost after iteration 1800: 0.471086"
       ]
      },
      {
       "output_type": "stream",
       "stream": "stdout",
       "text": [
        "\n",
        "Cost after iteration 1900: 0.466862"
       ]
      },
      {
       "output_type": "stream",
       "stream": "stdout",
       "text": [
        "\n",
        "Cost after iteration 2000: 0.463253"
       ]
      },
      {
       "output_type": "stream",
       "stream": "stdout",
       "text": [
        "\n",
        "Cost after iteration 2100: 0.460050"
       ]
      },
      {
       "output_type": "stream",
       "stream": "stdout",
       "text": [
        "\n",
        "Cost after iteration 2200: 0.457515"
       ]
      },
      {
       "output_type": "stream",
       "stream": "stdout",
       "text": [
        "\n",
        "Cost after iteration 2300: 0.455237"
       ]
      },
      {
       "output_type": "stream",
       "stream": "stdout",
       "text": [
        "\n",
        "Cost after iteration 2400: 0.453144"
       ]
      },
      {
       "output_type": "stream",
       "stream": "stdout",
       "text": [
        "\n"
       ]
      },
      {
       "metadata": {},
       "output_type": "display_data",
       "png": "[encoded data removed]",
       "text": [
        "<matplotlib.figure.Figure at 0x111f71a10>"
       ]
      },
      {
       "output_type": "stream",
       "stream": "stdout",
       "text": [
        "Accuracy: 0.831460674157\n",
        "Accuracy: 0.776536312849\n",
        "Cost after iteration 0: 0.898751\n",
        "Cost after iteration 100: 0.595981"
       ]
      },
      {
       "output_type": "stream",
       "stream": "stdout",
       "text": [
        "\n",
        "Cost after iteration 200: 0.562568"
       ]
      },
      {
       "output_type": "stream",
       "stream": "stdout",
       "text": [
        "\n",
        "Cost after iteration 300: 0.542402"
       ]
      },
      {
       "output_type": "stream",
       "stream": "stdout",
       "text": [
        "\n",
        "Cost after iteration 400: 0.530989"
       ]
      },
      {
       "output_type": "stream",
       "stream": "stdout",
       "text": [
        "\n",
        "Cost after iteration 500: 0.522506"
       ]
      },
      {
       "output_type": "stream",
       "stream": "stdout",
       "text": [
        "\n",
        "Cost after iteration 600: 0.515929"
       ]
      },
      {
       "output_type": "stream",
       "stream": "stdout",
       "text": [
        "\n",
        "Cost after iteration 700: 0.510602"
       ]
      },
      {
       "output_type": "stream",
       "stream": "stdout",
       "text": [
        "\n",
        "Cost after iteration 800: 0.506144"
       ]
      },
      {
       "output_type": "stream",
       "stream": "stdout",
       "text": [
        "\n",
        "Cost after iteration 900: 0.502234"
       ]
      },
      {
       "output_type": "stream",
       "stream": "stdout",
       "text": [
        "\n",
        "Cost after iteration 1000: 0.498729"
       ]
      },
      {
       "output_type": "stream",
       "stream": "stdout",
       "text": [
        "\n",
        "Cost after iteration 1100: 0.495660"
       ]
      },
      {
       "output_type": "stream",
       "stream": "stdout",
       "text": [
        "\n",
        "Cost after iteration 1200: 0.492918"
       ]
      },
      {
       "output_type": "stream",
       "stream": "stdout",
       "text": [
        "\n",
        "Cost after iteration 1300: 0.490416"
       ]
      },
      {
       "output_type": "stream",
       "stream": "stdout",
       "text": [
        "\n",
        "Cost after iteration 1400: 0.488111"
       ]
      },
      {
       "output_type": "stream",
       "stream": "stdout",
       "text": [
        "\n",
        "Cost after iteration 1500: 0.486005"
       ]
      },
      {
       "output_type": "stream",
       "stream": "stdout",
       "text": [
        "\n",
        "Cost after iteration 1600: 0.484063"
       ]
      },
      {
       "output_type": "stream",
       "stream": "stdout",
       "text": [
        "\n",
        "Cost after iteration 1700: 0.482285"
       ]
      },
      {
       "output_type": "stream",
       "stream": "stdout",
       "text": [
        "\n",
        "Cost after iteration 1800: 0.480671"
       ]
      },
      {
       "output_type": "stream",
       "stream": "stdout",
       "text": [
        "\n",
        "Cost after iteration 1900: 0.479171"
       ]
      },
      {
       "output_type": "stream",
       "stream": "stdout",
       "text": [
        "\n",
        "Cost after iteration 2000: 0.477681"
       ]
      },
      {
       "output_type": "stream",
       "stream": "stdout",
       "text": [
        "\n",
        "Cost after iteration 2100: 0.476213"
       ]
      },
      {
       "output_type": "stream",
       "stream": "stdout",
       "text": [
        "\n",
        "Cost after iteration 2200: 0.474268"
       ]
      },
      {
       "output_type": "stream",
       "stream": "stdout",
       "text": [
        "\n",
        "Cost after iteration 2300: 0.472156"
       ]
      },
      {
       "output_type": "stream",
       "stream": "stdout",
       "text": [
        "\n",
        "Cost after iteration 2400: 0.469668"
       ]
      },
      {
       "output_type": "stream",
       "stream": "stdout",
       "text": [
        "\n"
       ]
      },
      {
       "metadata": {},
       "output_type": "display_data",
       "png": "[encoded data removed]",
       "text": [
        "<matplotlib.figure.Figure at 0x1100deb90>"
       ]
      },
      {
       "output_type": "stream",
       "stream": "stdout",
       "text": [
        "Accuracy: 0.800841514727\n",
        "Accuracy: 0.797752808989\n",
        "Cost after iteration 0: 0.863952\n",
        "Cost after iteration 100: 0.584995"
       ]
      },
      {
       "output_type": "stream",
       "stream": "stdout",
       "text": [
        "\n",
        "Cost after iteration 200: 0.557731"
       ]
      },
      {
       "output_type": "stream",
       "stream": "stdout",
       "text": [
        "\n",
        "Cost after iteration 300: 0.542304"
       ]
      },
      {
       "output_type": "stream",
       "stream": "stdout",
       "text": [
        "\n",
        "Cost after iteration 400: 0.530952"
       ]
      },
      {
       "output_type": "stream",
       "stream": "stdout",
       "text": [
        "\n",
        "Cost after iteration 500: 0.521781"
       ]
      },
      {
       "output_type": "stream",
       "stream": "stdout",
       "text": [
        "\n",
        "Cost after iteration 600: 0.514130"
       ]
      },
      {
       "output_type": "stream",
       "stream": "stdout",
       "text": [
        "\n",
        "Cost after iteration 700: 0.507753"
       ]
      },
      {
       "output_type": "stream",
       "stream": "stdout",
       "text": [
        "\n",
        "Cost after iteration 800: 0.502174"
       ]
      },
      {
       "output_type": "stream",
       "stream": "stdout",
       "text": [
        "\n",
        "Cost after iteration 900: 0.497293"
       ]
      },
      {
       "output_type": "stream",
       "stream": "stdout",
       "text": [
        "\n",
        "Cost after iteration 1000: 0.492949"
       ]
      },
      {
       "output_type": "stream",
       "stream": "stdout",
       "text": [
        "\n",
        "Cost after iteration 1100: 0.489168"
       ]
      },
      {
       "output_type": "stream",
       "stream": "stdout",
       "text": [
        "\n",
        "Cost after iteration 1200: 0.485769"
       ]
      },
      {
       "output_type": "stream",
       "stream": "stdout",
       "text": [
        "\n",
        "Cost after iteration 1300: 0.482796"
       ]
      },
      {
       "output_type": "stream",
       "stream": "stdout",
       "text": [
        "\n",
        "Cost after iteration 1400: 0.480157"
       ]
      },
      {
       "output_type": "stream",
       "stream": "stdout",
       "text": [
        "\n",
        "Cost after iteration 1500: 0.477790"
       ]
      },
      {
       "output_type": "stream",
       "stream": "stdout",
       "text": [
        "\n",
        "Cost after iteration 1600: 0.475595"
       ]
      },
      {
       "output_type": "stream",
       "stream": "stdout",
       "text": [
        "\n",
        "Cost after iteration 1700: 0.473425"
       ]
      },
      {
       "output_type": "stream",
       "stream": "stdout",
       "text": [
        "\n",
        "Cost after iteration 1800: 0.471371"
       ]
      },
      {
       "output_type": "stream",
       "stream": "stdout",
       "text": [
        "\n",
        "Cost after iteration 1900: 0.469492"
       ]
      },
      {
       "output_type": "stream",
       "stream": "stdout",
       "text": [
        "\n",
        "Cost after iteration 2000: 0.467767"
       ]
      },
      {
       "output_type": "stream",
       "stream": "stdout",
       "text": [
        "\n",
        "Cost after iteration 2100: 0.466103"
       ]
      },
      {
       "output_type": "stream",
       "stream": "stdout",
       "text": [
        "\n",
        "Cost after iteration 2200: 0.464474"
       ]
      },
      {
       "output_type": "stream",
       "stream": "stdout",
       "text": [
        "\n",
        "Cost after iteration 2300: 0.462414"
       ]
      },
      {
       "output_type": "stream",
       "stream": "stdout",
       "text": [
        "\n",
        "Cost after iteration 2400: 0.460120"
       ]
      },
      {
       "output_type": "stream",
       "stream": "stdout",
       "text": [
        "\n"
       ]
      },
      {
       "metadata": {},
       "output_type": "display_data",
       "png": "[encoded data removed]",
       "text": [
        "<matplotlib.figure.Figure at 0x110b18d90>"
       ]
      },
      {
       "output_type": "stream",
       "stream": "stdout",
       "text": [
        "Accuracy: 0.819074333801\n",
        "Accuracy: 0.769662921348\n",
        "Cost after iteration 0: 0.896178\n",
        "Cost after iteration 100: 0.605485"
       ]
      },
      {
       "output_type": "stream",
       "stream": "stdout",
       "text": [
        "\n",
        "Cost after iteration 200: 0.571168"
       ]
      },
      {
       "output_type": "stream",
       "stream": "stdout",
       "text": [
        "\n",
        "Cost after iteration 300: 0.552409"
       ]
      },
      {
       "output_type": "stream",
       "stream": "stdout",
       "text": [
        "\n",
        "Cost after iteration 400: 0.541213"
       ]
      },
      {
       "output_type": "stream",
       "stream": "stdout",
       "text": [
        "\n",
        "Cost after iteration 500: 0.533061"
       ]
      },
      {
       "output_type": "stream",
       "stream": "stdout",
       "text": [
        "\n",
        "Cost after iteration 600: 0.526789"
       ]
      },
      {
       "output_type": "stream",
       "stream": "stdout",
       "text": [
        "\n",
        "Cost after iteration 700: 0.521773"
       ]
      },
      {
       "output_type": "stream",
       "stream": "stdout",
       "text": [
        "\n",
        "Cost after iteration 800: 0.517478"
       ]
      },
      {
       "output_type": "stream",
       "stream": "stdout",
       "text": [
        "\n",
        "Cost after iteration 900: 0.513730"
       ]
      },
      {
       "output_type": "stream",
       "stream": "stdout",
       "text": [
        "\n",
        "Cost after iteration 1000: 0.510208"
       ]
      },
      {
       "output_type": "stream",
       "stream": "stdout",
       "text": [
        "\n",
        "Cost after iteration 1100: 0.507151"
       ]
      },
      {
       "output_type": "stream",
       "stream": "stdout",
       "text": [
        "\n",
        "Cost after iteration 1200: 0.504409"
       ]
      },
      {
       "output_type": "stream",
       "stream": "stdout",
       "text": [
        "\n",
        "Cost after iteration 1300: 0.501827"
       ]
      },
      {
       "output_type": "stream",
       "stream": "stdout",
       "text": [
        "\n",
        "Cost after iteration 1400: 0.499413"
       ]
      },
      {
       "output_type": "stream",
       "stream": "stdout",
       "text": [
        "\n",
        "Cost after iteration 1500: 0.497258"
       ]
      },
      {
       "output_type": "stream",
       "stream": "stdout",
       "text": [
        "\n",
        "Cost after iteration 1600: 0.495233"
       ]
      },
      {
       "output_type": "stream",
       "stream": "stdout",
       "text": [
        "\n",
        "Cost after iteration 1700: 0.493382"
       ]
      },
      {
       "output_type": "stream",
       "stream": "stdout",
       "text": [
        "\n",
        "Cost after iteration 1800: 0.491664"
       ]
      },
      {
       "output_type": "stream",
       "stream": "stdout",
       "text": [
        "\n",
        "Cost after iteration 1900: 0.490012"
       ]
      },
      {
       "output_type": "stream",
       "stream": "stdout",
       "text": [
        "\n",
        "Cost after iteration 2000: 0.488506"
       ]
      },
      {
       "output_type": "stream",
       "stream": "stdout",
       "text": [
        "\n",
        "Cost after iteration 2100: 0.487104"
       ]
      },
      {
       "output_type": "stream",
       "stream": "stdout",
       "text": [
        "\n",
        "Cost after iteration 2200: 0.485750"
       ]
      },
      {
       "output_type": "stream",
       "stream": "stdout",
       "text": [
        "\n",
        "Cost after iteration 2300: 0.484502"
       ]
      },
      {
       "output_type": "stream",
       "stream": "stdout",
       "text": [
        "\n",
        "Cost after iteration 2400: 0.483386"
       ]
      },
      {
       "output_type": "stream",
       "stream": "stdout",
       "text": [
        "\n"
       ]
      },
      {
       "metadata": {},
       "output_type": "display_data",
       "png": "[encoded data removed]",
       "text": [
        "<matplotlib.figure.Figure at 0x108f3f5d0>"
       ]
      },
      {
       "output_type": "stream",
       "stream": "stdout",
       "text": [
        "Accuracy: 0.796918767507\n",
        "Accuracy: 0.813559322034\n",
        "training accuracy\n",
        "[0.8160112359550562, 0.8314606741573034, 0.8008415147265077, 0.8190743338008415, 0.7969187675070029]\n",
        "0.81\n",
        "________________________________________\n",
        "test accuracy\n",
        "[0.7877094972067039, 0.776536312849162, 0.797752808988764, 0.7696629213483146, 0.8135593220338984]\n",
        "0.79\n"
       ]
      }
     ],
     "prompt_number": 236
    },
    {
     "cell_type": "code",
     "collapsed": false,
     "input": [],
     "language": "python",
     "metadata": {},
     "outputs": []
    }
   ],
   "metadata": {}
  }
 ]
}