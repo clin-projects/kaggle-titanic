{
 "metadata": {
  "name": "",
  "signature": "sha256:a30a64e9cfa671cb1bc1232dc1c239f3d2010e6582544bc8179b3dcf559fb25a"
 },
 "nbformat": 3,
 "nbformat_minor": 0,
 "worksheets": [
  {
   "cells": [
    {
     "cell_type": "markdown",
     "metadata": {},
     "source": [
      "# Using L-layer neural network on the Kaggle Titanic dataset\n",
      "\n",
      "Objective is to predict which passengers survived the Titanic disaster, using the [Kaggle Titanic dataset](https://www.kaggle.com/c/titanic)\n",
      "\n",
      "Here, we build on our previous results by:\n",
      "\n",
      "1. trying out a multi-layer NN, and \n",
      "\n",
      "2. performing cross-validation\n",
      "\n",
      "## Notes\n",
      "\n",
      "* Pre-processing follows [Manav Sehgal's fantastic tutorial](https://www.kaggle.com/startupsci/titanic-data-science-solutions) which contains examples of several useful functions from the [pandas](https://pandas.pydata.org) and [seaborn](https://seaborn.pydata.org) libraries\n",
      "\n",
      "\n",
      "* Adi Bronshtein has written a concise [intro to cross-validation](https://towardsdatascience.com/train-test-split-and-cross-validation-in-python-80b61beca4b6)\n",
      "\n",
      "## Contents\n",
      "\n",
      "**Section 1.** Loading data and Pre-processing data / wrangling data\n",
      "\n",
      "**Section 2.** Run old models on dataset and evaluate\n",
      "\n",
      "**Section 3.** Run L-layer NN on dataset and evaluate\n",
      "\n",
      "**Section 4.** Implement cross-validation and run models again"
     ]
    },
    {
     "cell_type": "heading",
     "level": 1,
     "metadata": {},
     "source": [
      "**Section 1.** Loading data and Pre-processing data / wrangling data"
     ]
    },
    {
     "cell_type": "code",
     "collapsed": false,
     "input": [
      "# data analysis and wrangling\n",
      "import pandas as pd\n",
      "import numpy as np\n",
      "import random as rnd\n",
      "from ML_models import * # various traditional ML models\n",
      "from preprocess import * # pre-process titanic data\n",
      "from dnn_app_utils_v3 import * # for L-layer NN\n",
      "\n",
      "# visualization\n",
      "import seaborn as sns\n",
      "import matplotlib.pyplot as plt\n",
      "%matplotlib inline\n",
      "\n",
      "%load_ext autoreload\n",
      "%autoreload 2"
     ],
     "language": "python",
     "metadata": {},
     "outputs": [
      {
       "output_type": "stream",
       "stream": "stdout",
       "text": [
        "The autoreload extension is already loaded. To reload it, use:\n",
        "  %reload_ext autoreload\n"
       ]
      }
     ],
     "prompt_number": 92
    },
    {
     "cell_type": "code",
     "collapsed": false,
     "input": [
      "# loading data\n",
      "train_df = pd.read_csv('./datasets/train.csv')\n",
      "test_df = pd.read_csv('./datasets/test.csv')\n",
      "combine = [train_df, test_df]\n",
      "\n",
      "# pre-process data\n",
      "X_train, Y_train, X_test = PreProcessData(train_df, test_df)"
     ],
     "language": "python",
     "metadata": {},
     "outputs": [],
     "prompt_number": 89
    },
    {
     "cell_type": "heading",
     "level": 1,
     "metadata": {},
     "source": [
      "**Section 2.** Run old models on dataset and evaluate"
     ]
    },
    {
     "cell_type": "code",
     "collapsed": false,
     "input": [
      "# old models\n",
      "\n",
      "n_neighbors = 3 # for KNN\n",
      "n_estimators = 300 # for random forest\n",
      "\n",
      "models = runAll(X_train, Y_train, X_test, n_neighbors, n_estimators)\n",
      "models"
     ],
     "language": "python",
     "metadata": {},
     "outputs": [
      {
       "html": [
        "<div style=\"max-width:1500px;overflow:auto;\">\n",
        "<style scoped>\n",
        "    .dataframe tbody tr th:only-of-type {\n",
        "        vertical-align: middle;\n",
        "    }\n",
        "\n",
        "    .dataframe tbody tr th {\n",
        "        vertical-align: top;\n",
        "    }\n",
        "\n",
        "    .dataframe thead th {\n",
        "        text-align: right;\n",
        "    }\n",
        "</style>\n",
        "<table border=\"1\" class=\"dataframe\">\n",
        "  <thead>\n",
        "    <tr style=\"text-align: right;\">\n",
        "      <th></th>\n",
        "      <th>Model</th>\n",
        "      <th>Predictions</th>\n",
        "      <th>Score</th>\n",
        "    </tr>\n",
        "  </thead>\n",
        "  <tbody>\n",
        "    <tr>\n",
        "      <th>3</th>\n",
        "      <td>Random Forest</td>\n",
        "      <td>[0, 0, 0, 0, 1, 0, 1, 0, 1, 0, 0, 1, 1, 0, 1, ...</td>\n",
        "      <td>86.76</td>\n",
        "    </tr>\n",
        "    <tr>\n",
        "      <th>8</th>\n",
        "      <td>Decision Tree</td>\n",
        "      <td>[0, 0, 0, 0, 1, 0, 1, 0, 1, 0, 0, 1, 1, 0, 1, ...</td>\n",
        "      <td>86.76</td>\n",
        "    </tr>\n",
        "    <tr>\n",
        "      <th>1</th>\n",
        "      <td>KNN</td>\n",
        "      <td>[0, 0, 0, 0, 0, 0, 1, 0, 1, 0, 0, 1, 1, 0, 1, ...</td>\n",
        "      <td>84.06</td>\n",
        "    </tr>\n",
        "    <tr>\n",
        "      <th>0</th>\n",
        "      <td>Support Vector Machines</td>\n",
        "      <td>[0, 0, 0, 0, 1, 0, 1, 0, 1, 0, 0, 0, 1, 0, 1, ...</td>\n",
        "      <td>83.84</td>\n",
        "    </tr>\n",
        "    <tr>\n",
        "      <th>7</th>\n",
        "      <td>Linear SVC</td>\n",
        "      <td>[0, 1, 0, 0, 1, 0, 1, 0, 1, 0, 0, 0, 1, 0, 1, ...</td>\n",
        "      <td>81.14</td>\n",
        "    </tr>\n",
        "    <tr>\n",
        "      <th>2</th>\n",
        "      <td>Logistic Regression</td>\n",
        "      <td>[0, 1, 0, 0, 1, 0, 1, 0, 1, 0, 0, 0, 1, 0, 1, ...</td>\n",
        "      <td>80.25</td>\n",
        "    </tr>\n",
        "    <tr>\n",
        "      <th>5</th>\n",
        "      <td>Perceptron</td>\n",
        "      <td>[0, 0, 0, 0, 1, 1, 1, 0, 1, 0, 0, 0, 1, 0, 1, ...</td>\n",
        "      <td>74.07</td>\n",
        "    </tr>\n",
        "    <tr>\n",
        "      <th>4</th>\n",
        "      <td>Naive Bayes</td>\n",
        "      <td>[0, 1, 0, 0, 1, 0, 1, 1, 1, 0, 0, 1, 1, 0, 1, ...</td>\n",
        "      <td>73.40</td>\n",
        "    </tr>\n",
        "    <tr>\n",
        "      <th>6</th>\n",
        "      <td>Stochastic Gradient Decent</td>\n",
        "      <td>[0, 0, 0, 0, 0, 1, 0, 0, 0, 0, 0, 0, 1, 0, 0, ...</td>\n",
        "      <td>65.77</td>\n",
        "    </tr>\n",
        "  </tbody>\n",
        "</table>\n",
        "</div>"
       ],
       "metadata": {},
       "output_type": "pyout",
       "prompt_number": 90,
       "text": [
        "                        Model  \\\n",
        "3               Random Forest   \n",
        "8               Decision Tree   \n",
        "1                         KNN   \n",
        "0     Support Vector Machines   \n",
        "7                  Linear SVC   \n",
        "2         Logistic Regression   \n",
        "5                  Perceptron   \n",
        "4                 Naive Bayes   \n",
        "6  Stochastic Gradient Decent   \n",
        "\n",
        "                                         Predictions  Score  \n",
        "3  [0, 0, 0, 0, 1, 0, 1, 0, 1, 0, 0, 1, 1, 0, 1, ...  86.76  \n",
        "8  [0, 0, 0, 0, 1, 0, 1, 0, 1, 0, 0, 1, 1, 0, 1, ...  86.76  \n",
        "1  [0, 0, 0, 0, 0, 0, 1, 0, 1, 0, 0, 1, 1, 0, 1, ...  84.06  \n",
        "0  [0, 0, 0, 0, 1, 0, 1, 0, 1, 0, 0, 0, 1, 0, 1, ...  83.84  \n",
        "7  [0, 1, 0, 0, 1, 0, 1, 0, 1, 0, 0, 0, 1, 0, 1, ...  81.14  \n",
        "2  [0, 1, 0, 0, 1, 0, 1, 0, 1, 0, 0, 0, 1, 0, 1, ...  80.25  \n",
        "5  [0, 0, 0, 0, 1, 1, 1, 0, 1, 0, 0, 0, 1, 0, 1, ...  74.07  \n",
        "4  [0, 1, 0, 0, 1, 0, 1, 1, 1, 0, 0, 1, 1, 0, 1, ...  73.40  \n",
        "6  [0, 0, 0, 0, 0, 1, 0, 0, 0, 0, 0, 0, 1, 0, 0, ...  65.77  "
       ]
      }
     ],
     "prompt_number": 90
    },
    {
     "cell_type": "heading",
     "level": 1,
     "metadata": {},
     "source": [
      "**Section 3.** Run L-layer NN on dataset and evaluate"
     ]
    },
    {
     "cell_type": "code",
     "collapsed": false,
     "input": [
      "# reshape for NN\n",
      "X_train = X_train.T\n",
      "Y_train = np.array([Y_train])\n",
      "X_test = X_test.T\n",
      "print X_train.shape, Y_train.shape, X_test.shape"
     ],
     "language": "python",
     "metadata": {},
     "outputs": [
      {
       "output_type": "stream",
       "stream": "stdout",
       "text": [
        "(8, 891) (1, 891) (8, 418)\n"
       ]
      }
     ],
     "prompt_number": 91
    },
    {
     "cell_type": "code",
     "collapsed": false,
     "input": [
      "# L_layer_model (adapted from function built for Coursera's NN and DL course)\n",
      "\n",
      "def L_layer_model(X, Y, layers_dims, learning_rate = 0.0075, num_iterations = 3000, print_cost=False):#lr was 0.009\n",
      "    \"\"\"\n",
      "    Implements a L-layer neural network: [LINEAR->RELU]*(L-1)->LINEAR->SIGMOID.\n",
      "    \n",
      "    Arguments:\n",
      "    X -- data, numpy array of shape (number of examples, num_px * num_px * 3)\n",
      "    Y -- true \"label\" vector (containing 0 if cat, 1 if non-cat), of shape (1, number of examples)\n",
      "    layers_dims -- list containing the input size and each layer size, of length (number of layers + 1).\n",
      "    learning_rate -- learning rate of the gradient descent update rule\n",
      "    num_iterations -- number of iterations of the optimization loop\n",
      "    print_cost -- if True, it prints the cost every 100 steps\n",
      "    \n",
      "    Returns:\n",
      "    parameters -- parameters learnt by the model. They can then be used to predict.\n",
      "    \"\"\"\n",
      "\n",
      "    np.random.seed(1)\n",
      "    costs = []                         # keep track of cost\n",
      "    \n",
      "    # Parameters initialization.\n",
      "    parameters = initialize_parameters_deep(layers_dims)\n",
      "    \n",
      "    # Loop (gradient descent)\n",
      "    for i in range(0, num_iterations):\n",
      "\n",
      "        # Forward propagation: [LINEAR -> RELU]*(L-1) -> LINEAR -> SIGMOID.\n",
      "        AL, caches = L_model_forward(X, parameters)\n",
      "        \n",
      "        # Compute cost.\n",
      "        cost = compute_cost(AL, Y)\n",
      "    \n",
      "        # Backward propagation.\n",
      "        grads = L_model_backward(AL, Y, caches)\n",
      " \n",
      "        # Update parameters.\n",
      "        parameters = update_parameters(parameters, grads, learning_rate)\n",
      "                \n",
      "        # Print the cost every 100 training example\n",
      "        if print_cost and i % 100 == 0:\n",
      "            print (\"Cost after iteration %i: %f\" %(i, cost))\n",
      "        if print_cost and i % 100 == 0:\n",
      "            costs.append(cost)\n",
      "            \n",
      "    # plot the cost\n",
      "    plt.plot(np.squeeze(costs))\n",
      "    plt.ylabel('cost')\n",
      "    plt.xlabel('iterations (per tens)')\n",
      "    plt.title(\"Learning rate =\" + str(learning_rate))\n",
      "    plt.show()\n",
      "    \n",
      "    return parameters"
     ],
     "language": "python",
     "metadata": {},
     "outputs": [],
     "prompt_number": 97
    },
    {
     "cell_type": "code",
     "collapsed": false,
     "input": [
      "### CONSTANTS DEFINING THE MODEL ####\n",
      "n_x = X_train.shape[0]     # num_px * num_px * 3\n",
      "n_y = Y_train.shape[0]\n",
      "layers_dims = [n_x, 20, 7, 5, n_y] #  4-layer model"
     ],
     "language": "python",
     "metadata": {},
     "outputs": [],
     "prompt_number": 94
    },
    {
     "cell_type": "code",
     "collapsed": false,
     "input": [
      "parameters = L_layer_model(X_train, Y_train, layers_dims, num_iterations = 2500, print_cost = True)"
     ],
     "language": "python",
     "metadata": {},
     "outputs": [
      {
       "output_type": "stream",
       "stream": "stdout",
       "text": [
        "Cost after iteration 0: 0.892661\n",
        "Cost after iteration 100: 0.597748"
       ]
      },
      {
       "output_type": "stream",
       "stream": "stdout",
       "text": [
        "\n",
        "Cost after iteration 200: 0.565703"
       ]
      },
      {
       "output_type": "stream",
       "stream": "stdout",
       "text": [
        "\n",
        "Cost after iteration 300: 0.544974"
       ]
      },
      {
       "output_type": "stream",
       "stream": "stdout",
       "text": [
        "\n",
        "Cost after iteration 400: 0.533170"
       ]
      },
      {
       "output_type": "stream",
       "stream": "stdout",
       "text": [
        "\n",
        "Cost after iteration 500: 0.524446"
       ]
      },
      {
       "output_type": "stream",
       "stream": "stdout",
       "text": [
        "\n",
        "Cost after iteration 600: 0.517918"
       ]
      },
      {
       "output_type": "stream",
       "stream": "stdout",
       "text": [
        "\n",
        "Cost after iteration 700: 0.512525"
       ]
      },
      {
       "output_type": "stream",
       "stream": "stdout",
       "text": [
        "\n",
        "Cost after iteration 800: 0.507951"
       ]
      },
      {
       "output_type": "stream",
       "stream": "stdout",
       "text": [
        "\n",
        "Cost after iteration 900: 0.503922"
       ]
      },
      {
       "output_type": "stream",
       "stream": "stdout",
       "text": [
        "\n",
        "Cost after iteration 1000: 0.500414"
       ]
      },
      {
       "output_type": "stream",
       "stream": "stdout",
       "text": [
        "\n",
        "Cost after iteration 1100: 0.497290"
       ]
      },
      {
       "output_type": "stream",
       "stream": "stdout",
       "text": [
        "\n",
        "Cost after iteration 1200: 0.494419"
       ]
      },
      {
       "output_type": "stream",
       "stream": "stdout",
       "text": [
        "\n",
        "Cost after iteration 1300: 0.491777"
       ]
      },
      {
       "output_type": "stream",
       "stream": "stdout",
       "text": [
        "\n",
        "Cost after iteration 1400: 0.489326"
       ]
      },
      {
       "output_type": "stream",
       "stream": "stdout",
       "text": [
        "\n",
        "Cost after iteration 1500: 0.487128"
       ]
      },
      {
       "output_type": "stream",
       "stream": "stdout",
       "text": [
        "\n",
        "Cost after iteration 1600: 0.485146"
       ]
      },
      {
       "output_type": "stream",
       "stream": "stdout",
       "text": [
        "\n",
        "Cost after iteration 1700: 0.483288"
       ]
      },
      {
       "output_type": "stream",
       "stream": "stdout",
       "text": [
        "\n",
        "Cost after iteration 1800: 0.481549"
       ]
      },
      {
       "output_type": "stream",
       "stream": "stdout",
       "text": [
        "\n",
        "Cost after iteration 1900: 0.479816"
       ]
      },
      {
       "output_type": "stream",
       "stream": "stdout",
       "text": [
        "\n",
        "Cost after iteration 2000: 0.478120"
       ]
      },
      {
       "output_type": "stream",
       "stream": "stdout",
       "text": [
        "\n",
        "Cost after iteration 2100: 0.476509"
       ]
      },
      {
       "output_type": "stream",
       "stream": "stdout",
       "text": [
        "\n",
        "Cost after iteration 2200: 0.473996"
       ]
      },
      {
       "output_type": "stream",
       "stream": "stdout",
       "text": [
        "\n",
        "Cost after iteration 2300: 0.470907"
       ]
      },
      {
       "output_type": "stream",
       "stream": "stdout",
       "text": [
        "\n",
        "Cost after iteration 2400: 0.467967"
       ]
      },
      {
       "output_type": "stream",
       "stream": "stdout",
       "text": [
        "\n"
       ]
      },
      {
       "metadata": {},
       "output_type": "display_data",
       "png": "[encoded data removed]",
       "text": [
        "<matplotlib.figure.Figure at 0x110b4df10>"
       ]
      }
     ],
     "prompt_number": 95
    },
    {
     "cell_type": "code",
     "collapsed": false,
     "input": [
      "pred_train = predict(X_train, Y_train, parameters)"
     ],
     "language": "python",
     "metadata": {},
     "outputs": [
      {
       "output_type": "stream",
       "stream": "stdout",
       "text": [
        "Accuracy: 0.811447811448\n"
       ]
      }
     ],
     "prompt_number": 96
    },
    {
     "cell_type": "heading",
     "level": 1,
     "metadata": {},
     "source": [
      "**Section 4.** Implement cross-validation and run models again"
     ]
    },
    {
     "cell_type": "code",
     "collapsed": false,
     "input": [],
     "language": "python",
     "metadata": {},
     "outputs": []
    }
   ],
   "metadata": {}
  }
 ]
}